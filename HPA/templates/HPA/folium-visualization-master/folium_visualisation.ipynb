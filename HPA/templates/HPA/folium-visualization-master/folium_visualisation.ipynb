{
 "cells": [
  {
   "cell_type": "markdown",
   "metadata": {},
   "source": [
    "# Using python's Folium to create interactive maps"
   ]
  },
  {
   "cell_type": "markdown",
   "metadata": {},
   "source": [
    "Folium is a python library built on top of leaflet.js. It is used to visualize data through interactive maps, choropleth visualization, as well as parsing markers on data. \n",
    "\n",
    "The blog version for this notebook can be found [here](https://www.nagarajbhat.com/post/folium-visualization/)\n",
    "### What will be covered in this notebook?\n",
    "\n",
    "- data preparation - merging,sorting, grouping using pandas. (step 1-5)\n",
    "- barplot visualization using seaborn (step 6)\n",
    "- creating maps using python's folium - tiles, circle marker, choropleth map, and geojson. (step7-9)\n",
    "- creating labels on the choropleth map using geojsontooltip. (step 10)\n",
    "- Displaying multiple data views on the same map using the \"feature group\" and control layer. (step 11)\n",
    "- Calculate market share(step 12)\n",
    "- Calculate the largest commodity in each district(step 13)\n",
    "- Create markers and use custom icons. (step 14)"
   ]
  },
  {
   "cell_type": "markdown",
   "metadata": {},
   "source": [
    "### Pitfalls to avoid\n",
    "I broke my head for several hours so that you don't have to.\n",
    "- Avoid using jupyter lab in chrome, use firefox instead. Chrome did not render large maps. This will be useful in step 11.\n",
    "- While creating a choropleth map we will be using geojson data. Make sure the values in the key column (district name, or state) is the same across this file and the original data.\n",
    "- folium.Choropleth() doesn't provide an option for creating labels on top, use geojsontooltip along with it to create labels.\n",
    "\n",
    " If you are not interested in the data preparation method, skip to the step 7 to start off with folium maps"
   ]
  },
  {
   "cell_type": "markdown",
   "metadata": {},
   "source": [
    "#### Data\n",
    "- You can find the data used in this notebook in the \"data\" folder.\n",
    "- **References**:\n",
    "    1. \"CommMktArrivals2012.xls\" - Karnataka Agriculture market data by [data.gov.in](https://data.gov.in/resources/karnataka-agricultural-market-data-2012) \n",
    "    2. \"kar.json\" - Geojson map data for karnakata by [Kenneth Mark Dsouza](https://github.com/inosaint) from [here](https://github.com/inosaint/StatesOfIndia/blob/master/karnataka.geojson).\n",
    "        Some of the districts name were corrected to suit \"CommMktArrivals2012.xls\".\n",
    "    3. \"kar_latlong.xlsx\" - Latitude and longitude for each district in karnataka. This file was created by me."
   ]
  },
  {
   "cell_type": "markdown",
   "metadata": {},
   "source": [
    "## Step 1 : Installation and import"
   ]
  },
  {
   "cell_type": "markdown",
   "metadata": {},
   "source": [
    "Install folium,pandas using pip"
   ]
  },
  {
   "cell_type": "markdown",
   "metadata": {},
   "source": [
    "- pip install folium\n",
    "- pip install pandas"
   ]
  },
  {
   "cell_type": "markdown",
   "metadata": {},
   "source": [
    "import the libraries"
   ]
  },
  {
   "cell_type": "code",
   "execution_count": 1,
   "metadata": {},
   "outputs": [],
   "source": [
    "import pandas as pd\n",
    "import matplotlib.pyplot as plt\n",
    "import seaborn as sns\n",
    "import folium"
   ]
  },
  {
   "cell_type": "code",
   "execution_count": 39,
   "metadata": {},
   "outputs": [],
   "source": [
    "\n",
    "\n",
    "import numpy as np\n",
    "import pandas as pd\n",
    "\n",
    "df_sample = pd.read_csv('https://raw.githubusercontent.com/plotly/datasets/master/laucnty16.csv')\n",
    "df_sample['State FIPS Code'] = df_sample['State FIPS Code'].apply(lambda x: str(x).zfill(2))\n",
    "df_sample['County FIPS Code'] = df_sample['County FIPS Code'].apply(lambda x: str(x).zfill(3))\n",
    "df_sample['FIPS'] = df_sample['State FIPS Code'] + df_sample['County FIPS Code']\n",
    "\n",
    "colorscale = [\"#f7fbff\",\"#ebf3fb\",\"#deebf7\",\"#d2e3f3\",\"#c6dbef\",\"#b3d2e9\",\"#9ecae1\",\n",
    "              \"#85bcdb\",\"#6baed6\",\"#57a0ce\",\"#4292c6\",\"#3082be\",\"#2171b5\",\"#1361a9\",\n",
    "              \"#08519c\",\"#0b4083\",\"#08306b\"]\n",
    "endpts = list(np.linspace(1, 12, len(colorscale) - 1))\n",
    "fips = df_sample['FIPS'].tolist()\n",
    "values = df_sample['Unemployment Rate (%)'].tolist()\n",
    "\n"
   ]
  },
  {
   "cell_type": "code",
   "execution_count": null,
   "metadata": {},
   "outputs": [],
   "source": []
  },
  {
   "cell_type": "code",
   "execution_count": 31,
   "metadata": {},
   "outputs": [
    {
     "data": {
      "text/html": [
       "<div>\n",
       "<style scoped>\n",
       "    .dataframe tbody tr th:only-of-type {\n",
       "        vertical-align: middle;\n",
       "    }\n",
       "\n",
       "    .dataframe tbody tr th {\n",
       "        vertical-align: top;\n",
       "    }\n",
       "\n",
       "    .dataframe thead th {\n",
       "        text-align: right;\n",
       "    }\n",
       "</style>\n",
       "<table border=\"1\" class=\"dataframe\">\n",
       "  <thead>\n",
       "    <tr style=\"text-align: right;\">\n",
       "      <th></th>\n",
       "      <th>LAUS Code</th>\n",
       "      <th>State FIPS Code</th>\n",
       "      <th>County FIPS Code</th>\n",
       "      <th>County Name/State Abbreviation</th>\n",
       "      <th>Year</th>\n",
       "      <th>Labor Force</th>\n",
       "      <th>Employed</th>\n",
       "      <th>Unemployed</th>\n",
       "      <th>Unemployment Rate (%)</th>\n",
       "      <th>FIPS</th>\n",
       "    </tr>\n",
       "  </thead>\n",
       "  <tbody>\n",
       "    <tr>\n",
       "      <th>0</th>\n",
       "      <td>CN0100100000000</td>\n",
       "      <td>01</td>\n",
       "      <td>001</td>\n",
       "      <td>Autauga County, AL</td>\n",
       "      <td>2016</td>\n",
       "      <td>25,649</td>\n",
       "      <td>24,297</td>\n",
       "      <td>1,352</td>\n",
       "      <td>5.3</td>\n",
       "      <td>01001</td>\n",
       "    </tr>\n",
       "    <tr>\n",
       "      <th>1</th>\n",
       "      <td>CN0100300000000</td>\n",
       "      <td>01</td>\n",
       "      <td>003</td>\n",
       "      <td>Baldwin County, AL</td>\n",
       "      <td>2016</td>\n",
       "      <td>89,931</td>\n",
       "      <td>85,061</td>\n",
       "      <td>4,870</td>\n",
       "      <td>5.4</td>\n",
       "      <td>01003</td>\n",
       "    </tr>\n",
       "    <tr>\n",
       "      <th>2</th>\n",
       "      <td>CN0100500000000</td>\n",
       "      <td>01</td>\n",
       "      <td>005</td>\n",
       "      <td>Barbour County, AL</td>\n",
       "      <td>2016</td>\n",
       "      <td>8,302</td>\n",
       "      <td>7,584</td>\n",
       "      <td>718</td>\n",
       "      <td>8.6</td>\n",
       "      <td>01005</td>\n",
       "    </tr>\n",
       "    <tr>\n",
       "      <th>3</th>\n",
       "      <td>CN0100700000000</td>\n",
       "      <td>01</td>\n",
       "      <td>007</td>\n",
       "      <td>Bibb County, AL</td>\n",
       "      <td>2016</td>\n",
       "      <td>8,573</td>\n",
       "      <td>8,004</td>\n",
       "      <td>569</td>\n",
       "      <td>6.6</td>\n",
       "      <td>01007</td>\n",
       "    </tr>\n",
       "    <tr>\n",
       "      <th>4</th>\n",
       "      <td>CN0100900000000</td>\n",
       "      <td>01</td>\n",
       "      <td>009</td>\n",
       "      <td>Blount County, AL</td>\n",
       "      <td>2016</td>\n",
       "      <td>24,525</td>\n",
       "      <td>23,171</td>\n",
       "      <td>1,354</td>\n",
       "      <td>5.5</td>\n",
       "      <td>01009</td>\n",
       "    </tr>\n",
       "  </tbody>\n",
       "</table>\n",
       "</div>"
      ],
      "text/plain": [
       "         LAUS Code State FIPS Code County FIPS Code  \\\n",
       "0  CN0100100000000              01              001   \n",
       "1  CN0100300000000              01              003   \n",
       "2  CN0100500000000              01              005   \n",
       "3  CN0100700000000              01              007   \n",
       "4  CN0100900000000              01              009   \n",
       "\n",
       "  County Name/State Abbreviation  Year  Labor Force     Employed  Unemployed  \\\n",
       "0             Autauga County, AL  2016  25,649       24,297       1,352        \n",
       "1             Baldwin County, AL  2016  89,931       85,061       4,870        \n",
       "2             Barbour County, AL  2016   8,302        7,584         718        \n",
       "3                Bibb County, AL  2016   8,573        8,004         569        \n",
       "4              Blount County, AL  2016  24,525       23,171       1,354        \n",
       "\n",
       "   Unemployment Rate (%)   FIPS  \n",
       "0                    5.3  01001  \n",
       "1                    5.4  01003  \n",
       "2                    8.6  01005  \n",
       "3                    6.6  01007  \n",
       "4                    5.5  01009  "
      ]
     },
     "execution_count": 31,
     "metadata": {},
     "output_type": "execute_result"
    }
   ],
   "source": [
    "df_sample.head()"
   ]
  },
  {
   "cell_type": "code",
   "execution_count": null,
   "metadata": {},
   "outputs": [],
   "source": []
  },
  {
   "cell_type": "markdown",
   "metadata": {},
   "source": [
    "## Step 2: pick a data\n",
    "Pick a data you are interested in. I've considered [agriculture market data from karnataka(2012)](https://data.gov.in/resources/karnataka-agricultural-market-data-2012)."
   ]
  },
  {
   "cell_type": "code",
   "execution_count": 54,
   "metadata": {},
   "outputs": [
    {
     "data": {
      "text/plain": [
       "Index(['District Name', 'Taluk Name', 'Market Name', 'Address', 'Telephone',\n",
       "       'Commodity', 'Year', 'Month', 'Arrival', 'Unit'],\n",
       "      dtype='object')"
      ]
     },
     "execution_count": 54,
     "metadata": {},
     "output_type": "execute_result"
    }
   ],
   "source": [
    "data = pd.read_excel('data/CommMktArrivals2012.xls')\n",
    "data.columns"
   ]
  },
  {
   "cell_type": "markdown",
   "metadata": {},
   "source": [
    "## Step 3: Data preparation \n",
    "\n",
    "- There are 156 Commodities in the data.We will only consider commodities whose units are in quintal,so other commodities such as coconut,Ox will be left out.This is done for the sake of uniformity.\n",
    "- Also, we do not require all the columns. hence filter the columns needed.\n",
    "- 'sum' function is used to obtain the sum of all items (our focus is on the 'Arrival') based on the groupings.\n"
   ]
  },
  {
   "cell_type": "code",
   "execution_count": 55,
   "metadata": {},
   "outputs": [
    {
     "data": {
      "text/html": [
       "<div>\n",
       "<style scoped>\n",
       "    .dataframe tbody tr th:only-of-type {\n",
       "        vertical-align: middle;\n",
       "    }\n",
       "\n",
       "    .dataframe tbody tr th {\n",
       "        vertical-align: top;\n",
       "    }\n",
       "\n",
       "    .dataframe thead th {\n",
       "        text-align: right;\n",
       "    }\n",
       "</style>\n",
       "<table border=\"1\" class=\"dataframe\">\n",
       "  <thead>\n",
       "    <tr style=\"text-align: right;\">\n",
       "      <th></th>\n",
       "      <th>Commodity</th>\n",
       "      <th>District Name</th>\n",
       "      <th>Arrival</th>\n",
       "      <th>Unit</th>\n",
       "    </tr>\n",
       "  </thead>\n",
       "  <tbody>\n",
       "    <tr>\n",
       "      <th>0</th>\n",
       "      <td>Alasande Gram</td>\n",
       "      <td>Bagalakot</td>\n",
       "      <td>2258</td>\n",
       "      <td>Quintal</td>\n",
       "    </tr>\n",
       "    <tr>\n",
       "      <th>1</th>\n",
       "      <td>Alasande Gram</td>\n",
       "      <td>Bangalore Urban•</td>\n",
       "      <td>34328</td>\n",
       "      <td>Quintal</td>\n",
       "    </tr>\n",
       "    <tr>\n",
       "      <th>2</th>\n",
       "      <td>Alasande Gram</td>\n",
       "      <td>Chamarajanagar</td>\n",
       "      <td>192</td>\n",
       "      <td>Quintal</td>\n",
       "    </tr>\n",
       "    <tr>\n",
       "      <th>3</th>\n",
       "      <td>Alasande Gram</td>\n",
       "      <td>Chickmagalur</td>\n",
       "      <td>3</td>\n",
       "      <td>Quintal</td>\n",
       "    </tr>\n",
       "    <tr>\n",
       "      <th>4</th>\n",
       "      <td>Alasande Gram</td>\n",
       "      <td>Davanagere</td>\n",
       "      <td>5875</td>\n",
       "      <td>Quintal</td>\n",
       "    </tr>\n",
       "  </tbody>\n",
       "</table>\n",
       "</div>"
      ],
      "text/plain": [
       "       Commodity     District Name  Arrival        Unit\n",
       "0  Alasande Gram         Bagalakot     2258  Quintal   \n",
       "1  Alasande Gram  Bangalore Urban•    34328  Quintal   \n",
       "2  Alasande Gram    Chamarajanagar      192  Quintal   \n",
       "3  Alasande Gram      Chickmagalur        3  Quintal   \n",
       "4  Alasande Gram        Davanagere     5875  Quintal   "
      ]
     },
     "execution_count": 55,
     "metadata": {},
     "output_type": "execute_result"
    }
   ],
   "source": [
    "df = data.groupby(['Commodity','District Name','Unit'],as_index=False)\n",
    "df = df.sum().filter([\"Commodity\",\"District Name\",\"Arrival\",\"Unit\"])\n",
    "df_quintal = df[df[\"Unit\"]==\"Quintal   \"]\n",
    "df_quintal.head()"
   ]
  },
  {
   "cell_type": "markdown",
   "metadata": {},
   "source": [
    "Note that **'Arrival'** here refers to the arrival of commodities at a place for sale, from various source such as villages, storages,etc."
   ]
  },
  {
   "cell_type": "markdown",
   "metadata": {},
   "source": [
    "Commodities which will be left out of the analysis are:"
   ]
  },
  {
   "cell_type": "code",
   "execution_count": 56,
   "metadata": {},
   "outputs": [
    {
     "data": {
      "text/plain": [
       "array(['Ash Gourd', 'Bull  ', 'Calf  ', 'Coconut  ', 'Cow  ', 'Goat  ',\n",
       "       'He Baffalo  ', 'Ox  ', 'Ram  ', 'She Baffalo  ', 'She Goat  ',\n",
       "       'Sheep  ', 'Tender Coconut'], dtype=object)"
      ]
     },
     "execution_count": 56,
     "metadata": {},
     "output_type": "execute_result"
    }
   ],
   "source": [
    "df_notquintal = df[df[\"Unit\"]!=\"Quintal   \"]\n",
    "df_notquintal.Commodity.unique()"
   ]
  },
  {
   "cell_type": "markdown",
   "metadata": {},
   "source": [
    "### Step 4: Latitude and longitude\n",
    "Not all datasets come with geographical values. So we create  an excel file and populate districts with their latitude and longitude values.\n"
   ]
  },
  {
   "cell_type": "code",
   "execution_count": 57,
   "metadata": {},
   "outputs": [
    {
     "data": {
      "text/html": [
       "<div>\n",
       "<style scoped>\n",
       "    .dataframe tbody tr th:only-of-type {\n",
       "        vertical-align: middle;\n",
       "    }\n",
       "\n",
       "    .dataframe tbody tr th {\n",
       "        vertical-align: top;\n",
       "    }\n",
       "\n",
       "    .dataframe thead th {\n",
       "        text-align: right;\n",
       "    }\n",
       "</style>\n",
       "<table border=\"1\" class=\"dataframe\">\n",
       "  <thead>\n",
       "    <tr style=\"text-align: right;\">\n",
       "      <th></th>\n",
       "      <th>District Name</th>\n",
       "      <th>Latitude</th>\n",
       "      <th>Longitude</th>\n",
       "    </tr>\n",
       "  </thead>\n",
       "  <tbody>\n",
       "    <tr>\n",
       "      <th>0</th>\n",
       "      <td>Bagalakot</td>\n",
       "      <td>16.179200</td>\n",
       "      <td>75.699400</td>\n",
       "    </tr>\n",
       "    <tr>\n",
       "      <th>1</th>\n",
       "      <td>Bangalore Urban•</td>\n",
       "      <td>12.976750</td>\n",
       "      <td>77.575279</td>\n",
       "    </tr>\n",
       "    <tr>\n",
       "      <th>2</th>\n",
       "      <td>Chamarajanagar</td>\n",
       "      <td>11.926147</td>\n",
       "      <td>76.943733</td>\n",
       "    </tr>\n",
       "    <tr>\n",
       "      <th>3</th>\n",
       "      <td>Chickmagalur</td>\n",
       "      <td>13.444570</td>\n",
       "      <td>75.685380</td>\n",
       "    </tr>\n",
       "    <tr>\n",
       "      <th>4</th>\n",
       "      <td>Davanagere</td>\n",
       "      <td>14.464408</td>\n",
       "      <td>75.921761</td>\n",
       "    </tr>\n",
       "  </tbody>\n",
       "</table>\n",
       "</div>"
      ],
      "text/plain": [
       "      District Name   Latitude  Longitude\n",
       "0         Bagalakot  16.179200  75.699400\n",
       "1  Bangalore Urban•  12.976750  77.575279\n",
       "2    Chamarajanagar  11.926147  76.943733\n",
       "3      Chickmagalur  13.444570  75.685380\n",
       "4        Davanagere  14.464408  75.921761"
      ]
     },
     "execution_count": 57,
     "metadata": {},
     "output_type": "execute_result"
    }
   ],
   "source": [
    "kar_latlong = pd.read_excel(\"./data/karnataka_latlong.xlsx\")\n",
    "kar_latlong.head()"
   ]
  },
  {
   "cell_type": "markdown",
   "metadata": {},
   "source": [
    "Now, merge this file with the original data df"
   ]
  },
  {
   "cell_type": "code",
   "execution_count": 58,
   "metadata": {},
   "outputs": [
    {
     "name": "stdout",
     "output_type": "stream",
     "text": [
      "Commodity         object\n",
      "District Name     object\n",
      "Arrival            int64\n",
      "Unit              object\n",
      "Latitude         float64\n",
      "Longitude        float64\n",
      "dtype: object\n"
     ]
    },
    {
     "data": {
      "text/html": [
       "<div>\n",
       "<style scoped>\n",
       "    .dataframe tbody tr th:only-of-type {\n",
       "        vertical-align: middle;\n",
       "    }\n",
       "\n",
       "    .dataframe tbody tr th {\n",
       "        vertical-align: top;\n",
       "    }\n",
       "\n",
       "    .dataframe thead th {\n",
       "        text-align: right;\n",
       "    }\n",
       "</style>\n",
       "<table border=\"1\" class=\"dataframe\">\n",
       "  <thead>\n",
       "    <tr style=\"text-align: right;\">\n",
       "      <th></th>\n",
       "      <th>Commodity</th>\n",
       "      <th>District Name</th>\n",
       "      <th>Arrival</th>\n",
       "      <th>Unit</th>\n",
       "      <th>Latitude</th>\n",
       "      <th>Longitude</th>\n",
       "    </tr>\n",
       "  </thead>\n",
       "  <tbody>\n",
       "    <tr>\n",
       "      <th>0</th>\n",
       "      <td>Alasande Gram</td>\n",
       "      <td>Bagalakot</td>\n",
       "      <td>2258</td>\n",
       "      <td>Quintal</td>\n",
       "      <td>16.1792</td>\n",
       "      <td>75.6994</td>\n",
       "    </tr>\n",
       "    <tr>\n",
       "      <th>1</th>\n",
       "      <td>Bajra</td>\n",
       "      <td>Bagalakot</td>\n",
       "      <td>127672</td>\n",
       "      <td>Quintal</td>\n",
       "      <td>16.1792</td>\n",
       "      <td>75.6994</td>\n",
       "    </tr>\n",
       "    <tr>\n",
       "      <th>2</th>\n",
       "      <td>Bengalgram</td>\n",
       "      <td>Bagalakot</td>\n",
       "      <td>16775</td>\n",
       "      <td>Quintal</td>\n",
       "      <td>16.1792</td>\n",
       "      <td>75.6994</td>\n",
       "    </tr>\n",
       "    <tr>\n",
       "      <th>3</th>\n",
       "      <td>Castor Seed</td>\n",
       "      <td>Bagalakot</td>\n",
       "      <td>100</td>\n",
       "      <td>Quintal</td>\n",
       "      <td>16.1792</td>\n",
       "      <td>75.6994</td>\n",
       "    </tr>\n",
       "    <tr>\n",
       "      <th>4</th>\n",
       "      <td>Chilly Red</td>\n",
       "      <td>Bagalakot</td>\n",
       "      <td>2909</td>\n",
       "      <td>Quintal</td>\n",
       "      <td>16.1792</td>\n",
       "      <td>75.6994</td>\n",
       "    </tr>\n",
       "  </tbody>\n",
       "</table>\n",
       "</div>"
      ],
      "text/plain": [
       "       Commodity District Name  Arrival        Unit  Latitude  Longitude\n",
       "0  Alasande Gram     Bagalakot     2258  Quintal      16.1792    75.6994\n",
       "1          Bajra     Bagalakot   127672  Quintal      16.1792    75.6994\n",
       "2     Bengalgram     Bagalakot    16775  Quintal      16.1792    75.6994\n",
       "3    Castor Seed     Bagalakot      100  Quintal      16.1792    75.6994\n",
       "4     Chilly Red     Bagalakot     2909  Quintal      16.1792    75.6994"
      ]
     },
     "execution_count": 58,
     "metadata": {},
     "output_type": "execute_result"
    }
   ],
   "source": [
    "df_merged = pd.merge(df_quintal,kar_latlong)\n",
    "print(df_merged.dtypes)\n",
    "df_merged.head()"
   ]
  },
  {
   "cell_type": "markdown",
   "metadata": {},
   "source": [
    "Note that we will be using this data - \"df_merged\" thoroughout this example."
   ]
  },
  {
   "cell_type": "markdown",
   "metadata": {},
   "source": [
    "## Step 5: Obtain Geojson data\n",
    "\n",
    "Geojson is a popular format for representing geographical features.Its a Json file which contains polygon structures of states, districts, etc.\n",
    "\n",
    "Make sure the key column in geojson data, such as \"District Name\" or \" id\" , matches with the original data.If not, modify it to match.\n"
   ]
  },
  {
   "cell_type": "code",
   "execution_count": 59,
   "metadata": {},
   "outputs": [
    {
     "data": {
      "text/html": [
       "<div>\n",
       "<style scoped>\n",
       "    .dataframe tbody tr th:only-of-type {\n",
       "        vertical-align: middle;\n",
       "    }\n",
       "\n",
       "    .dataframe tbody tr th {\n",
       "        vertical-align: top;\n",
       "    }\n",
       "\n",
       "    .dataframe thead th {\n",
       "        text-align: right;\n",
       "    }\n",
       "</style>\n",
       "<table border=\"1\" class=\"dataframe\">\n",
       "  <thead>\n",
       "    <tr style=\"text-align: right;\">\n",
       "      <th></th>\n",
       "      <th>type</th>\n",
       "      <th>features</th>\n",
       "    </tr>\n",
       "  </thead>\n",
       "  <tbody>\n",
       "    <tr>\n",
       "      <th>0</th>\n",
       "      <td>FeatureCollection</td>\n",
       "      <td>{'type': 'Feature', 'id': 215, 'properties': {...</td>\n",
       "    </tr>\n",
       "    <tr>\n",
       "      <th>1</th>\n",
       "      <td>FeatureCollection</td>\n",
       "      <td>{'type': 'Feature', 'id': 216, 'properties': {...</td>\n",
       "    </tr>\n",
       "    <tr>\n",
       "      <th>2</th>\n",
       "      <td>FeatureCollection</td>\n",
       "      <td>{'type': 'Feature', 'id': 217, 'properties': {...</td>\n",
       "    </tr>\n",
       "    <tr>\n",
       "      <th>3</th>\n",
       "      <td>FeatureCollection</td>\n",
       "      <td>{'type': 'Feature', 'id': 218, 'properties': {...</td>\n",
       "    </tr>\n",
       "    <tr>\n",
       "      <th>4</th>\n",
       "      <td>FeatureCollection</td>\n",
       "      <td>{'type': 'Feature', 'id': 219, 'properties': {...</td>\n",
       "    </tr>\n",
       "  </tbody>\n",
       "</table>\n",
       "</div>"
      ],
      "text/plain": [
       "                type                                           features\n",
       "0  FeatureCollection  {'type': 'Feature', 'id': 215, 'properties': {...\n",
       "1  FeatureCollection  {'type': 'Feature', 'id': 216, 'properties': {...\n",
       "2  FeatureCollection  {'type': 'Feature', 'id': 217, 'properties': {...\n",
       "3  FeatureCollection  {'type': 'Feature', 'id': 218, 'properties': {...\n",
       "4  FeatureCollection  {'type': 'Feature', 'id': 219, 'properties': {..."
      ]
     },
     "execution_count": 59,
     "metadata": {},
     "output_type": "execute_result"
    }
   ],
   "source": [
    "state_geo = f'./data/kar.json'\n",
    "sg = pd.read_json(state_geo)\n",
    "sg.head()"
   ]
  },
  {
   "cell_type": "markdown",
   "metadata": {},
   "source": [
    "## Step 6: Bar graph to visualise top 10 commodities\n",
    "This is to plot the top ten commodities, with the criteria of highest arrivals. We group the elements by commodity, unit and sort them in descending order of arrival quantity."
   ]
  },
  {
   "cell_type": "code",
   "execution_count": 60,
   "metadata": {},
   "outputs": [
    {
     "data": {
      "text/html": [
       "<div>\n",
       "<style scoped>\n",
       "    .dataframe tbody tr th:only-of-type {\n",
       "        vertical-align: middle;\n",
       "    }\n",
       "\n",
       "    .dataframe tbody tr th {\n",
       "        vertical-align: top;\n",
       "    }\n",
       "\n",
       "    .dataframe thead th {\n",
       "        text-align: right;\n",
       "    }\n",
       "</style>\n",
       "<table border=\"1\" class=\"dataframe\">\n",
       "  <thead>\n",
       "    <tr style=\"text-align: right;\">\n",
       "      <th></th>\n",
       "      <th>Commodity</th>\n",
       "      <th>Unit</th>\n",
       "      <th>Arrival</th>\n",
       "      <th>Latitude</th>\n",
       "      <th>Longitude</th>\n",
       "    </tr>\n",
       "  </thead>\n",
       "  <tbody>\n",
       "    <tr>\n",
       "      <th>102</th>\n",
       "      <td>Paddy</td>\n",
       "      <td>Quintal</td>\n",
       "      <td>18554513</td>\n",
       "      <td>380.467137</td>\n",
       "      <td>2060.111836</td>\n",
       "    </tr>\n",
       "    <tr>\n",
       "      <th>84</th>\n",
       "      <td>Maize</td>\n",
       "      <td>Quintal</td>\n",
       "      <td>15460281</td>\n",
       "      <td>401.154348</td>\n",
       "      <td>2137.423769</td>\n",
       "    </tr>\n",
       "    <tr>\n",
       "      <th>99</th>\n",
       "      <td>Onion</td>\n",
       "      <td>Quintal</td>\n",
       "      <td>9826018</td>\n",
       "      <td>368.514132</td>\n",
       "      <td>1982.113841</td>\n",
       "    </tr>\n",
       "    <tr>\n",
       "      <th>111</th>\n",
       "      <td>Rice</td>\n",
       "      <td>Quintal</td>\n",
       "      <td>9159723</td>\n",
       "      <td>368.129609</td>\n",
       "      <td>1984.904080</td>\n",
       "    </tr>\n",
       "    <tr>\n",
       "      <th>107</th>\n",
       "      <td>Potato</td>\n",
       "      <td>Quintal</td>\n",
       "      <td>4467185</td>\n",
       "      <td>260.171524</td>\n",
       "      <td>1451.324285</td>\n",
       "    </tr>\n",
       "    <tr>\n",
       "      <th>60</th>\n",
       "      <td>Green Ginger</td>\n",
       "      <td>Quintal</td>\n",
       "      <td>2952505</td>\n",
       "      <td>240.684788</td>\n",
       "      <td>1373.686010</td>\n",
       "    </tr>\n",
       "    <tr>\n",
       "      <th>44</th>\n",
       "      <td>Cotton</td>\n",
       "      <td>Quintal</td>\n",
       "      <td>2861896</td>\n",
       "      <td>310.754192</td>\n",
       "      <td>1599.291974</td>\n",
       "    </tr>\n",
       "    <tr>\n",
       "      <th>135</th>\n",
       "      <td>Tomato</td>\n",
       "      <td>Quintal</td>\n",
       "      <td>2858265</td>\n",
       "      <td>240.716868</td>\n",
       "      <td>1377.507581</td>\n",
       "    </tr>\n",
       "    <tr>\n",
       "      <th>5</th>\n",
       "      <td>Arecanut</td>\n",
       "      <td>Quintal</td>\n",
       "      <td>2696704</td>\n",
       "      <td>227.213780</td>\n",
       "      <td>1294.990255</td>\n",
       "    </tr>\n",
       "    <tr>\n",
       "      <th>136</th>\n",
       "      <td>Tur</td>\n",
       "      <td>Quintal</td>\n",
       "      <td>2562682</td>\n",
       "      <td>308.087800</td>\n",
       "      <td>1602.387911</td>\n",
       "    </tr>\n",
       "  </tbody>\n",
       "</table>\n",
       "</div>"
      ],
      "text/plain": [
       "        Commodity        Unit   Arrival    Latitude    Longitude\n",
       "102         Paddy  Quintal     18554513  380.467137  2060.111836\n",
       "84          Maize  Quintal     15460281  401.154348  2137.423769\n",
       "99          Onion  Quintal      9826018  368.514132  1982.113841\n",
       "111          Rice  Quintal      9159723  368.129609  1984.904080\n",
       "107        Potato  Quintal      4467185  260.171524  1451.324285\n",
       "60   Green Ginger  Quintal      2952505  240.684788  1373.686010\n",
       "44         Cotton  Quintal      2861896  310.754192  1599.291974\n",
       "135        Tomato  Quintal      2858265  240.716868  1377.507581\n",
       "5        Arecanut  Quintal      2696704  227.213780  1294.990255\n",
       "136           Tur  Quintal      2562682  308.087800  1602.387911"
      ]
     },
     "execution_count": 60,
     "metadata": {},
     "output_type": "execute_result"
    }
   ],
   "source": [
    "dfg  = df_merged.groupby(['Commodity','Unit'],as_index=False)\n",
    "\n",
    "topten_df = dfg.sum().sort_values(by='Arrival',ascending=False).head(10)\n",
    "topten_df"
   ]
  },
  {
   "cell_type": "markdown",
   "metadata": {},
   "source": [
    "Then we use seaborn library's barplot  to plot. As we can see the top  Commodities from karnataka are paddy,maize,onion,rice,potato,cotton,green ginger,tomato,arecanut and tur."
   ]
  },
  {
   "cell_type": "code",
   "execution_count": 61,
   "metadata": {},
   "outputs": [
    {
     "data": {
      "image/png": "[encoded data removed]",
      "text/plain": [
       "<Figure size 432x288 with 1 Axes>"
      ]
     },
     "metadata": {
      "needs_background": "light"
     },
     "output_type": "display_data"
    }
   ],
   "source": [
    "fig = sns.barplot(topten_df['Arrival'],topten_df['Commodity'])\n",
    "plt.title(\"Top 10 Commodity in karnataka - Agriculture market data (2012)\")\n",
    "plt.xlabel(\"Arrival.(In quintal). source: data.gov.in\")\n",
    "plt.savefig(\"img/step6_topten\",bbox_inches=\"tight\")\n",
    "plt.show(fig)\n"
   ]
  },
  {
   "cell_type": "markdown",
   "metadata": {},
   "source": [
    "## Step 7 : Creating basic folium map"
   ]
  },
  {
   "cell_type": "markdown",
   "metadata": {},
   "source": [
    "Foilum can be used to visualize geographical data."
   ]
  },
  {
   "cell_type": "code",
   "execution_count": 62,
   "metadata": {},
   "outputs": [
    {
     "name": "stderr",
     "output_type": "stream",
     "text": [
      "C:\\Users\\Shoaib\\Anaconda3\\lib\\site-packages\\IPython\\core\\display.py:701: UserWarning:\n",
      "\n",
      "Consider using IPython.display.IFrame instead\n",
      "\n"
     ]
    },
    {
     "data": {
      "text/html": [
       "<iframe src=\"html/basicmap.html\" width=700 height=450></iframe>"
      ],
      "text/plain": [
       "<IPython.core.display.HTML object>"
      ]
     },
     "execution_count": 62,
     "metadata": {},
     "output_type": "execute_result"
    }
   ],
   "source": [
    "f = folium.Figure(width=600, height=400)\n",
    "m = folium.Map(location=[df_merged['Latitude'].mean(),df_merged['Longitude'].mean()],  \n",
    "               zoom_start=5.2,tiles='cartodbpositron').add_to(f)\n",
    "m.save('html/basicmap.html')\n",
    "m\n",
    "\n",
    "# Import the Folium interactive html file\n",
    "from IPython.display import HTML\n",
    "HTML('<iframe src=\"html/basicmap.html\" width=700 height=450></iframe>')"
   ]
  },
  {
   "cell_type": "markdown",
   "metadata": {},
   "source": [
    "folium.Map() can be used to create a map.Here are few important parameters it takes:\n",
    "- location: give the latitude and longitude value for the center of the map.\n",
    "- zoom_start: indicates the starting zoom point.\n",
    "- tiles: for the map style.The default tiles are set to 'OpenStreetMap', but 'Stamen Terrain','Stamen Toner','Stamen Watercolor', 'cartodbpositron', 'cartodbdark_matter', and many other tiles are built-in.\n",
    "- add_to() : add_to method is used to add the function to the map or other functions.\n",
    "- folium.Figure(): It is generally used if you want to set the height and width of the figure, but this is not necessary to create a map, just add_to(m) instead."
   ]
  },
  {
   "cell_type": "markdown",
   "metadata": {},
   "source": [
    "## Step 8 : Adding folium circle marker"
   ]
  },
  {
   "cell_type": "markdown",
   "metadata": {},
   "source": [
    "Circle marker can be added using folium.Circle() function.\n",
    "We will filter out paddy Arrival data and link it to the circle"
   ]
  },
  {
   "cell_type": "code",
   "execution_count": 63,
   "metadata": {},
   "outputs": [
    {
     "data": {
      "text/html": [
       "<iframe src=html/step8_paddy.html width=700 height=450></iframe>"
      ],
      "text/plain": [
       "<IPython.core.display.HTML object>"
      ]
     },
     "execution_count": 63,
     "metadata": {},
     "output_type": "execute_result"
    }
   ],
   "source": [
    "m = folium.Map(location=[df_merged['Latitude'].mean(),df_merged['Longitude'].mean()],  \n",
    "               zoom_start=6.2,tiles='cartodbpositron')\n",
    "paddy = df_merged[df_merged[\"Commodity\"]==\"Paddy\"]\n",
    "data_cm = paddy\n",
    "\n",
    "for i in range(0,len(data_cm)):\n",
    "   folium.Circle(\n",
    "     location=[data_cm.iloc[i]['Latitude'], data_cm.iloc[i]['Longitude']],\n",
    "      popup=str(data_cm.iloc[i]['District Name'])+\":\"+str(data_cm.iloc[i]['Arrival']),\n",
    "      radius=float(data_cm.iloc[i]['Arrival']/75),\n",
    "      color='crimson',\n",
    "      fill=True,\n",
    "      fill_color='blue'\n",
    "   ).add_to(m)\n",
    "m.save('html/step8_paddy.html')\n",
    "m\n",
    "\n",
    "# Import the Folium interactive html file\n",
    "from IPython.display import HTML\n",
    "HTML('<iframe src=html/step8_paddy.html width=700 height=450></iframe>')"
   ]
  },
  {
   "cell_type": "markdown",
   "metadata": {},
   "source": [
    "parameters in folium circle:\n",
    "- popup: text to be pops up when the circle is clicked on.\n",
    "- radius: radius of the circle. here we have linked it to the Arrival value of the paddy data.\n",
    "    The bigger the circle, the more paddy arrives in that area.\n",
    "    \n",
    "As we can see circle marker may not be the best representation for this scenario.\n",
    "As the circle radius is the value of arrival and doesn't indicate the appropriate boundaries for the districts.\n",
    "Hence we will make use of choropleth."
   ]
  },
  {
   "cell_type": "markdown",
   "metadata": {},
   "source": [
    "## Step 9: Create a Choropleth map\n",
    "- Choropleth is a type of thematic map in which areas (such as districts or state) are colored with different shades of a color corresponding to the density/quantity of the data it is linked to.\n",
    "- create using folium.Choropleth()\n"
   ]
  },
  {
   "cell_type": "code",
   "execution_count": 64,
   "metadata": {},
   "outputs": [
    {
     "data": {
      "text/html": [
       "<iframe src=html/step9_choropleth.html width=700 height=450></iframe>"
      ],
      "text/plain": [
       "<IPython.core.display.HTML object>"
      ]
     },
     "execution_count": 64,
     "metadata": {},
     "output_type": "execute_result"
    }
   ],
   "source": [
    "m = folium.Map([15, 70], zoom_start=6,tiles='cartodbpositron')\n",
    "\n",
    "arecanut = df_merged[df_merged[\"Commodity\"]==\"Arecanut\"]\n",
    "state_data = arecanut\n",
    "\n",
    "choropleth = folium.Choropleth(\n",
    "    geo_data=state_geo,\n",
    "    name='choropleth',\n",
    "    data=state_data,\n",
    "    columns=['District Name', 'Arrival'],\n",
    "    key_on='feature.properties.NAME_2',\n",
    "    fill_color='YlGn',\n",
    "    fill_opacity=0.7,\n",
    "    line_opacity=0.2,\n",
    "    legend_name='Arecanut Arrival(in Quintal)',\n",
    "    highlight=True,\n",
    "    line_color='black'\n",
    ").add_to(m)\n",
    "\n",
    "folium.LayerControl(collapsed=True).add_to(m)\n",
    "m.save('html/step9_choropleth.html')\n",
    "\n",
    "m\n",
    "# Import the Folium interactive html file\n",
    "from IPython.display import HTML\n",
    "HTML('<iframe src=html/step9_choropleth.html width=700 height=450></iframe>')"
   ]
  },
  {
   "cell_type": "markdown",
   "metadata": {},
   "source": [
    "## Step 10: Add label to choropleth using GeoJsonTooltip\n",
    "\n",
    "- This is the most basic version of a GeoJsonTool tip\n",
    "- add_child() function is used to add this under choropleth\n",
    "- 'NAME_2' is a field from state_geo containing district names."
   ]
  },
  {
   "cell_type": "code",
   "execution_count": 65,
   "metadata": {},
   "outputs": [
    {
     "data": {
      "text/html": [
       "<iframe src=html/step10_geojsontooltip.html width=700 height=450></iframe>"
      ],
      "text/plain": [
       "<IPython.core.display.HTML object>"
      ]
     },
     "execution_count": 65,
     "metadata": {},
     "output_type": "execute_result"
    }
   ],
   "source": [
    "choropleth.geojson.add_child(\n",
    "    folium.features.GeoJsonTooltip(['NAME_2'],labels=False)\n",
    ")\n",
    "m.save(\"html/step10_geojsontooltip.html\")\n",
    "m\n",
    "# Import the Folium interactive html file\n",
    "from IPython.display import HTML\n",
    "HTML('<iframe src=html/step10_geojsontooltip.html width=700 height=450></iframe>')"
   ]
  },
  {
   "cell_type": "markdown",
   "metadata": {},
   "source": [
    "### Step 11: displaying multiple data using feature group and layer control\n",
    "\n",
    "- As we can see above we were able to visualize map for arecanut across Karnataka.\n",
    "  - But what if we want to view paddy or maize?\n",
    "  - Should we create separate maps for each?\n",
    "  - Is there a way to view multiple commodities in a single map?\n",
    "- The answer to this is using FeatureGroup.\n",
    "- Multiple features can be passed to a single feature group to group them together\n",
    "- And then multiple feature groups can be created and added to layer control\n",
    "- this gives us an option to toggle different views.\n",
    "- Tile layer option can be added for map themes\n",
    "    - can be added using folium.Tilelayer()\n",
    "    - make collapsed as False to display the option\n",
    "\n",
    "Please note that execution of the following code could be very slow,\n",
    "use firefox insteead of chrome, and reduce the number of commodities if you want quicker execution."
   ]
  },
  {
   "cell_type": "code",
   "execution_count": 51,
   "metadata": {},
   "outputs": [
    {
     "name": "stderr",
     "output_type": "stream",
     "text": [
      "C:\\Users\\Shoaib\\Anaconda3\\lib\\site-packages\\IPython\\core\\display.py:701: UserWarning:\n",
      "\n",
      "Consider using IPython.display.IFrame instead\n",
      "\n"
     ]
    },
    {
     "data": {
      "text/html": [
       "<iframe src=html/step11_toptenmap.html width=700 height=450></iframe>"
      ],
      "text/plain": [
       "<IPython.core.display.HTML object>"
      ]
     },
     "execution_count": 51,
     "metadata": {},
     "output_type": "execute_result"
    }
   ],
   "source": [
    "from branca.colormap import linear\n",
    "\n",
    "m = folium.Map([15, 74], zoom_start=5.5,tiles=None,overlay=False)\n",
    "\n",
    "#top 10 commodities\n",
    "paddy = df_merged[df_merged[\"Commodity\"]==\"Paddy\"]\n",
    "maize = df_merged[df_merged[\"Commodity\"]==\"Maize\"]\n",
    "onion = df_merged[df_merged[\"Commodity\"]==\"Onion\"]\n",
    "rice = df_merged[df_merged[\"Commodity\"]==\"Rice\"]\n",
    "potato = df_merged[df_merged[\"Commodity\"]==\"Potato\"]\n",
    "\n",
    "cotton = df_merged[df_merged[\"Commodity\"]==\"Cotton\"]\n",
    "greenginger = df_merged[df_merged[\"Commodity\"]==\"Green Ginger\"]\n",
    "tomato = df_merged[df_merged[\"Commodity\"]==\"Tomato\"]\n",
    "arecanut = df_merged[df_merged[\"Commodity\"]==\"Arecanut\"]\n",
    "tur = df_merged[df_merged[\"Commodity\"]==\"Banana\"]\n",
    "\n",
    "\n",
    "\n",
    "# feature groups - for each commodity\n",
    "feature_group0 = folium.FeatureGroup(name='paddy',overlay=False).add_to(m)\n",
    "feature_group1= folium.FeatureGroup(name='maize',overlay=False).add_to(m)\n",
    "feature_group2 = folium.FeatureGroup(name='onion',overlay=False).add_to(m)\n",
    "feature_group3= folium.FeatureGroup(name='rice',overlay=False).add_to(m)\n",
    "feature_group4 = folium.FeatureGroup(name='potato',overlay=False).add_to(m)\n",
    "feature_group5 = folium.FeatureGroup(name='cotton',overlay=False).add_to(m)\n",
    "feature_group6 = folium.FeatureGroup(name='Green Ginger',overlay=False).add_to(m)\n",
    "feature_group7 = folium.FeatureGroup(name='Tomato',overlay=False).add_to(m)\n",
    "feature_group8 = folium.FeatureGroup(name='Arecanut',overlay=False).add_to(m)\n",
    "feature_group9 = folium.FeatureGroup(name='Tur',overlay=False).add_to(m)\n",
    "\n",
    "\n",
    "fs = [feature_group0,feature_group1,feature_group2,feature_group3,feature_group4,feature_group5,\n",
    "      feature_group6,feature_group7,feature_group8,feature_group9]\n",
    "commodities = [paddy,maize,onion,rice,potato,cotton,greenginger,tomato,arecanut,tur]\n",
    "\n",
    "#cycle through each commodity and add choropleth to corresposing feature groups\n",
    "for i in range(len(commodities)): \n",
    "    choropleth1 = folium.Choropleth(\n",
    "    geo_data=state_geo,\n",
    "    name='choropleth',\n",
    "    data=commodities[i],\n",
    "    columns=['District Name', 'Arrival'],\n",
    "    key_on='feature.properties.NAME_2',\n",
    "    fill_color='YlGn',\n",
    "    nan_fill_color=\"black\",\n",
    "    fill_opacity=0.7,\n",
    "    line_opacity=0.2,\n",
    "    legend_name='Arrival (in Quintal)',\n",
    "    highlight=True,\n",
    "    line_color='black').geojson.add_to(fs[i])\n",
    "    \n",
    "    #geojson for labels\n",
    "    geojson1 = folium.GeoJson(data=state_geo,\n",
    "               name='karnataka district',\n",
    "                         smooth_factor=2,\n",
    "               style_function=lambda x: {'color':'black','fillColor':'transparent','weight':0.5},\n",
    "                tooltip=folium.GeoJsonTooltip(fields=['NAME_2'],\n",
    "                                              labels=False,\n",
    "                                              sticky=True),\n",
    "              highlight_function=lambda x: {'weight':3,'fillColor':'grey'},\n",
    "                        \n",
    "                       ).add_to(choropleth1)\n",
    "    \n",
    "#Color map to create legend \n",
    "colormap = linear.YlGn_09.scale(\n",
    "df_merged.Arrival.min(),\n",
    "df_merged.Arrival.max()).to_step(10)\n",
    "colormap.caption = 'Arrival (in quintal)'\n",
    "colormap.add_to(m)\n",
    "   \n",
    "# Add tiles\n",
    "folium.TileLayer('OpenStreetMap',overlay=True,name=\"color mode\").add_to(m)\n",
    "folium.TileLayer('cartodbdark_matter',overlay=True,name=\"dark mode\").add_to(m)\n",
    "folium.TileLayer('cartodbpositron',overlay=True,name=\"light mode\").add_to(m)\n",
    "\n",
    "folium.LayerControl(collapsed=False).add_to(m)\n",
    "m.save('html/step11_toptenmap.html')\n",
    "m\n",
    "\n",
    "# Import the Folium interactive html file\n",
    "from IPython.display import HTML\n",
    "HTML('<iframe src=html/step11_toptenmap.html width=700 height=450></iframe>')"
   ]
  },
  {
   "cell_type": "markdown",
   "metadata": {},
   "source": [
    "## Step 12: Calculate market share - Percentage of Commodity in a district"
   ]
  },
  {
   "cell_type": "markdown",
   "metadata": {},
   "source": [
    "This step is not necesary for visualisation, but the data can be used for insights"
   ]
  },
  {
   "cell_type": "code",
   "execution_count": 26,
   "metadata": {},
   "outputs": [
    {
     "data": {
      "text/plain": [
       "1441    20.285221\n",
       "Name: Arrival, dtype: float64"
      ]
     },
     "execution_count": 26,
     "metadata": {},
     "output_type": "execute_result"
    }
   ],
   "source": [
    "# percent of Paddy from Raichur\n",
    "paddy = df_merged[df_merged[\"Commodity\"]==\"Paddy\"]\n",
    "paddy[paddy[\"District Name\"]==\"Raichur\"].Arrival/paddy.Arrival.sum() *100"
   ]
  },
  {
   "cell_type": "code",
   "execution_count": 27,
   "metadata": {},
   "outputs": [
    {
     "data": {
      "text/plain": [
       "1069    51.956799\n",
       "Name: Arrival, dtype: float64"
      ]
     },
     "execution_count": 27,
     "metadata": {},
     "output_type": "execute_result"
    }
   ],
   "source": [
    "## percent of Tomato from Kolar\n",
    "tomato = df_merged[df_merged[\"Commodity\"]==\"Tomato\"]\n",
    "tomato[tomato[\"District Name\"]==\"Kolar\"].Arrival/tomato.Arrival.sum() *100"
   ]
  },
  {
   "cell_type": "markdown",
   "metadata": {},
   "source": [
    "## step 13 : Calculate the largest commodity in each district\n",
    "- Large number of commodities arrive at each district, we need to find the one with the largest arrival value\n",
    "- We can use the resulting max_commodity data to place relevant commodity icons for each district in the next step."
   ]
  },
  {
   "cell_type": "code",
   "execution_count": 28,
   "metadata": {},
   "outputs": [
    {
     "data": {
      "text/plain": [
       "{'Bagalakot': 'Maize',\n",
       " 'Bangalore Urban•': 'Onion',\n",
       " 'Chamarajanagar': 'Paddy',\n",
       " 'Chickmagalur': 'Paddy',\n",
       " 'Davanagere': 'Maize',\n",
       " 'Dharwad': 'Onion',\n",
       " 'Gadag': 'Maize',\n",
       " 'Gulbarga': 'Tur',\n",
       " 'Hassan': 'Green Ginger',\n",
       " 'Haveri': 'Maize',\n",
       " 'MANDYA': 'Jaggery',\n",
       " 'Mysore': 'Paddy',\n",
       " 'Ramnagar': 'Mango',\n",
       " 'Shimoga': 'Maize',\n",
       " 'Tumukur': 'Copra',\n",
       " 'Udupi': 'Arecanut',\n",
       " 'Bangalore Rural': 'Maize',\n",
       " 'Kolar': 'Tomato',\n",
       " 'Belgaum': 'Onion',\n",
       " 'Chickballapur': 'Maize',\n",
       " 'Kodagu': 'Green Ginger',\n",
       " 'Chitradurga': 'Maize',\n",
       " 'Dakshina Kannada': 'Arecanut',\n",
       " 'Uttara Kannada': 'Paddy',\n",
       " 'Bidar': 'Tur',\n",
       " 'Bellary': 'Paddy',\n",
       " 'Bijapur': 'Cotton',\n",
       " 'Koppal': 'Paddy',\n",
       " 'Raichur': 'Paddy'}"
      ]
     },
     "execution_count": 28,
     "metadata": {},
     "output_type": "execute_result"
    }
   ],
   "source": [
    "max_commodity={}\n",
    "#create list of unique districts\n",
    "districts = df_merged[\"District Name\"].unique()\n",
    "for el in districts:\n",
    "    #filter out data of each district\n",
    "    df_dis = df_merged[df_merged[\"District Name\"]==el]\n",
    "    #obtain the commodity with maximum arrival in each district\n",
    "    max_each_district  = df_dis[df_dis.Arrival == df_dis.Arrival.max()].Commodity.iloc[0]\n",
    "    #fill it in max_commodity as district:max_commodity_for_each_district\n",
    "    max_commodity[df_dis[\"District Name\"].iloc[0]] = max_each_district\n",
    "max_commodity\n"
   ]
  },
  {
   "cell_type": "markdown",
   "metadata": {},
   "source": [
    "## Step 14: Create markers and use custom icons\n",
    "\n",
    "- Custom icon can be created using a image file, and used as a marker.\n",
    "- Each icon is dynamically taken depending upon the largest commodity name for each district."
   ]
  },
  {
   "cell_type": "code",
   "execution_count": 30,
   "metadata": {},
   "outputs": [
    {
     "data": {
      "text/html": [
       "<iframe src=html/step14_icon_commodity.html width=700 height=450></iframe>"
      ],
      "text/plain": [
       "<IPython.core.display.HTML object>"
      ]
     },
     "execution_count": 30,
     "metadata": {},
     "output_type": "execute_result"
    }
   ],
   "source": [
    "\n",
    "m = folium.Map(location=[df_merged['Latitude'].mean()+1,df_merged['Longitude'].mean()],  \n",
    "               zoom_start=5.5,tile=None)\n",
    "\n",
    "data_cm = kar_latlong\n",
    "\n",
    "geojson = folium.GeoJson(data=state_geo,\n",
    "                         smooth_factor=2,\n",
    "               style_function=lambda x: {'color':'black','fillColor':'green','weight':1},\n",
    "                tooltip=folium.GeoJsonTooltip(fields=['NAME_2'],\n",
    "                                              labels=False,\n",
    "                                              sticky=True),\n",
    "              highlight_function=lambda x: {'weight':3,'fillColor':'grey'},\n",
    "                       ).add_to(m)\n",
    "# marker and icon\n",
    "for i in range(0,len(data_cm)):\n",
    "    #changing file name depending upon largest commodity for the district\n",
    "    icon_image = \"./img/icons/\"+str(max_commodity[data_cm.iloc[i]['District Name']])+\".png\"\n",
    "    icon = folium.CustomIcon(\n",
    "    icon_image,\n",
    "    icon_size=(25, 25),\n",
    "    icon_anchor=(15, 15),\n",
    "    popup_anchor=(-3, -76)\n",
    ")\n",
    "    folium.Marker(\n",
    "    location=[data_cm.iloc[i]['Latitude'], data_cm.iloc[i]['Longitude']],\n",
    "    icon=icon,\n",
    "    radius=float(15000.0),\n",
    "    popup=str(data_cm.iloc[i]['District Name'])+\":\"+str(max_commodity[data_cm.iloc[i]['District Name']])\n",
    "    ).add_to(m)\n",
    "    \n",
    "# Add tiles\n",
    "folium.TileLayer('cartodbdark_matter',overlay=True,name=\"dark mode\").add_to(m)\n",
    "folium.TileLayer('cartodbpositron',overlay=True,name=\"light mode\").add_to(m)\n",
    "folium.TileLayer('OpenStreetMap',overlay=True,name=\"open street\").add_to(m)\n",
    "\n",
    "folium.LayerControl(collapsed=True).add_to(m)\n",
    "\n",
    "m.save('html/step14_icon_commodity.html')\n",
    "m\n",
    "\n",
    "\n",
    "# Import the Folium interactive html file\n",
    "from IPython.display import HTML\n",
    "HTML('<iframe src=html/step14_icon_commodity.html width=700 height=450></iframe>')\n"
   ]
  },
  {
   "cell_type": "markdown",
   "metadata": {},
   "source": [
    "In this post we learnt how to use folium for interactive maps, prepare the data using pandas, use geojson data, create choropelth map and add labels, use multiple data layers, and add custom markers.\n",
    "For more information on folium check out their official [documentation](https://python-visualization.github.io/folium/)."
   ]
  },
  {
   "cell_type": "code",
   "execution_count": null,
   "metadata": {},
   "outputs": [],
   "source": []
  },
  {
   "cell_type": "code",
   "execution_count": null,
   "metadata": {},
   "outputs": [],
   "source": []
  }
 ],
 "metadata": {
  "kernelspec": {
   "display_name": "Python 3",
   "language": "python",
   "name": "python3"
  },
  "language_info": {
   "codemirror_mode": {
    "name": "ipython",
    "version": 3
   },
   "file_extension": ".py",
   "mimetype": "text/x-python",
   "name": "python",
   "nbconvert_exporter": "python",
   "pygments_lexer": "ipython3",
   "version": "3.6.5"
  }
 },
 "nbformat": 4,
 "nbformat_minor": 4
}
